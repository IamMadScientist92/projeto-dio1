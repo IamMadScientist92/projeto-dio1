{
  "nbformat": 4,
  "nbformat_minor": 0,
  "metadata": {
    "colab": {
      "provenance": []
    },
    "kernelspec": {
      "name": "python3",
      "display_name": "Python 3"
    },
    "language_info": {
      "name": "python"
    }
  },
  "cells": [
    {
      "cell_type": "code",
      "execution_count": 84,
      "metadata": {
        "id": "8oxbfdKZTkfH"
      },
      "outputs": [],
      "source": [
        "import pandas as pd\n",
        "import csv\n",
        "\n",
        "insta_url = 'https://www.instagram.com/'\n",
        "\n",
        "df = pd.read_csv('UserInfo.csv')\n",
        "users = df['userName'].tolist()\n",
        "insta = df['userInsta'].tolist()\n",
        "\n"
      ]
    },
    {
      "cell_type": "code",
      "source": [
        "from posixpath import split\n",
        "file = open(\"UserInfo.csv\", \"r\")\n",
        "d = {}\n",
        "for line in file:\n",
        "  split = line.strip().split(\",\")\n",
        "  d[split[0]] = split[1]\n",
        "\n",
        "if True:\n",
        "    nome = input('Digite seu nome: ')\n",
        "    if nome in users:\n",
        "      print(f'Olá, {nome}. Acesse seu perfil do Instagram através do link abaixo: \\n {instaurl}/{d[nome]}')\n",
        "    else:\n",
        "      print('Sinto muito, seu nome não se encontra no banco de dados.')\n"
      ],
      "metadata": {
        "colab": {
          "base_uri": "https://localhost:8080/"
        },
        "id": "T0dSaThpdZZ-",
        "outputId": "3227b95b-bc52-4c26-ba67-e1f859a440f9"
      },
      "execution_count": 111,
      "outputs": [
        {
          "output_type": "stream",
          "name": "stdout",
          "text": [
            "Digite seu nome: Paulo\n",
            "Olá, Paulo. Acesse seu perfil do Instagram através do link abaixo: \n",
            " https://instagram.com/carneirou.art\n"
          ]
        }
      ]
    }
  ]
}